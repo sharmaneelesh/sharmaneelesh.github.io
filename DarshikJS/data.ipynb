{
 "cells": [
  {
   "cell_type": "code",
   "execution_count": 1,
   "metadata": {},
   "outputs": [],
   "source": [
    "import pandas as pd\n",
    "import numpy as np"
   ]
  },
  {
   "cell_type": "code",
   "execution_count": 2,
   "metadata": {},
   "outputs": [
    {
     "name": "stderr",
     "output_type": "stream",
     "text": [
      "/tmp/ipykernel_190104/2173573420.py:1: DtypeWarning: Columns (10) have mixed types. Specify dtype option on import or set low_memory=False.\n",
      "  data = pd.read_csv('./movies_metadata.csv', index_col='id')\n"
     ]
    },
    {
     "data": {
      "text/plain": [
       "Index(['adult', 'belongs_to_collection', 'budget', 'genres', 'homepage',\n",
       "       'imdb_id', 'original_language', 'original_title', 'overview',\n",
       "       'popularity', 'poster_path', 'production_companies',\n",
       "       'production_countries', 'release_date', 'revenue', 'runtime',\n",
       "       'spoken_languages', 'status', 'tagline', 'title', 'video',\n",
       "       'vote_average', 'vote_count'],\n",
       "      dtype='object')"
      ]
     },
     "execution_count": 2,
     "metadata": {},
     "output_type": "execute_result"
    }
   ],
   "source": [
    "data = pd.read_csv('./movies_metadata.csv', index_col='id')\n",
    "data.columns"
   ]
  },
  {
   "cell_type": "code",
   "execution_count": 3,
   "metadata": {},
   "outputs": [],
   "source": [
    "#Not helpful\n",
    "data = data.drop(['adult', 'belongs_to_collection', 'homepage', 'original_language', 'overview', 'poster_path', 'production_companies', 'spoken_languages', 'status', 'tagline', 'video', 'original_title', 'genres'], axis=1)"
   ]
  },
  {
   "cell_type": "code",
   "execution_count": 4,
   "metadata": {},
   "outputs": [],
   "source": [
    "#Preprocessing\n",
    "data['production_countries'].replace('[]', np.nan, inplace=True)\n",
    "data['budget'].replace('0', np.nan, inplace=True)\n",
    "data['revenue'].replace(0, np.nan, inplace=True)\n",
    "data['runtime'].replace(0, np.nan, inplace=True)\n",
    "data['vote_average'].replace(0, np.nan, inplace=True)\n",
    "data['vote_count'].replace(0, np.nan, inplace=True)"
   ]
  },
  {
   "cell_type": "code",
   "execution_count": 5,
   "metadata": {},
   "outputs": [],
   "source": [
    "#Dropping null values\n",
    "data.dropna(subset=['budget', 'imdb_id', 'revenue', 'runtime', 'title', 'vote_average', 'vote_count', 'production_countries', 'release_date'], inplace=True)"
   ]
  },
  {
   "cell_type": "code",
   "execution_count": 6,
   "metadata": {},
   "outputs": [
    {
     "data": {
      "text/plain": [
       "budget                  0\n",
       "imdb_id                 0\n",
       "popularity              0\n",
       "production_countries    0\n",
       "release_date            0\n",
       "revenue                 0\n",
       "runtime                 0\n",
       "title                   0\n",
       "vote_average            0\n",
       "vote_count              0\n",
       "dtype: int64"
      ]
     },
     "execution_count": 6,
     "metadata": {},
     "output_type": "execute_result"
    }
   ],
   "source": [
    "data.isnull().sum()"
   ]
  },
  {
   "cell_type": "code",
   "execution_count": 7,
   "metadata": {},
   "outputs": [
    {
     "name": "stderr",
     "output_type": "stream",
     "text": [
      "/tmp/ipykernel_190104/927168777.py:1: FutureWarning: Dropping of nuisance columns in DataFrame reductions (with 'numeric_only=None') is deprecated; in a future version this will raise TypeError.  Select only valid columns before calling the reduction.\n",
      "  data.min()\n"
     ]
    },
    {
     "data": {
      "text/plain": [
       "budget                                                                  1\n",
       "imdb_id                                                         tt0004972\n",
       "production_countries    [{'iso_3166_1': 'AE', 'name': 'United Arab Emi...\n",
       "release_date                                                   1915-02-08\n",
       "revenue                                                               1.0\n",
       "runtime                                                              26.0\n",
       "title                                                (500) Days of Summer\n",
       "vote_average                                                          1.0\n",
       "vote_count                                                            1.0\n",
       "dtype: object"
      ]
     },
     "execution_count": 7,
     "metadata": {},
     "output_type": "execute_result"
    }
   ],
   "source": [
    "data.min()"
   ]
  },
  {
   "cell_type": "code",
   "execution_count": 8,
   "metadata": {},
   "outputs": [
    {
     "name": "stderr",
     "output_type": "stream",
     "text": [
      "/tmp/ipykernel_190104/2904433368.py:1: FutureWarning: Dropping of nuisance columns in DataFrame reductions (with 'numeric_only=None') is deprecated; in a future version this will raise TypeError.  Select only valid columns before calling the reduction.\n",
      "  data.max()\n"
     ]
    },
    {
     "data": {
      "text/plain": [
       "budget                                                          994000\n",
       "imdb_id                                                      tt6673840\n",
       "production_countries    [{'iso_3166_1': 'ZA', 'name': 'South Africa'}]\n",
       "release_date                                                2017-08-04\n",
       "revenue                                                   2787965087.0\n",
       "runtime                                                          338.0\n",
       "title                                                         Æon Flux\n",
       "vote_average                                                       9.1\n",
       "vote_count                                                     14075.0\n",
       "dtype: object"
      ]
     },
     "execution_count": 8,
     "metadata": {},
     "output_type": "execute_result"
    }
   ],
   "source": [
    "data.max()"
   ]
  },
  {
   "cell_type": "code",
   "execution_count": 9,
   "metadata": {},
   "outputs": [
    {
     "name": "stderr",
     "output_type": "stream",
     "text": [
      "/tmp/ipykernel_190104/475231589.py:2: SettingWithCopyWarning: \n",
      "A value is trying to be set on a copy of a slice from a DataFrame\n",
      "\n",
      "See the caveats in the documentation: https://pandas.pydata.org/pandas-docs/stable/user_guide/indexing.html#returning-a-view-versus-a-copy\n",
      "  data.release_date[i] = data.release_date[i][:4]\n"
     ]
    }
   ],
   "source": [
    "for i in range(data.release_date.size):\n",
    "    data.release_date[i] = data.release_date[i][:4]"
   ]
  },
  {
   "cell_type": "code",
   "execution_count": 10,
   "metadata": {},
   "outputs": [
    {
     "name": "stderr",
     "output_type": "stream",
     "text": [
      "/tmp/ipykernel_190104/1261689539.py:7: SettingWithCopyWarning: \n",
      "A value is trying to be set on a copy of a slice from a DataFrame\n",
      "\n",
      "See the caveats in the documentation: https://pandas.pydata.org/pandas-docs/stable/user_guide/indexing.html#returning-a-view-versus-a-copy\n",
      "  data.production_countries[i] = data.production_countries[i][s:e]\n"
     ]
    },
    {
     "name": "stdout",
     "output_type": "stream",
     "text": [
      "United States of America\n",
      "United States of America\n",
      "United States of America\n",
      "United States of America\n",
      "United States of America\n",
      "United Kingdom\n",
      "United States of America\n",
      "United States of America\n",
      "France\n",
      "France\n",
      "United Kingdom\n",
      "United States of America\n",
      "United States of America\n",
      "United States of America\n",
      "United States of America\n"
     ]
    }
   ],
   "source": [
    "#Fetching country names from long strings:  \"[{'iso_3166_1': 'ZA', 'name': 'South Africa'}]\"\n",
    "import re\n",
    "\n",
    "for i in range(data.production_countries.size):\n",
    "    s = re.search(\"me': '\", data.production_countries[i]).span()[0] + 6\n",
    "    e = re.search(\"'}\", data.production_countries[i]).span()[1] - 2\n",
    "    data.production_countries[i] = data.production_countries[i][s:e]\n",
    "    #print(data.production_countries[i])"
   ]
  },
  {
   "cell_type": "markdown",
   "metadata": {},
   "source": [
    "Usable features:\n",
    "\n",
    "    - `budget`\n",
    "    - (look into preprocessing `genres` out of the data)\n",
    "    - (look into preprocessing `production_countries` out of the data) -  DONE\n",
    "    - `imdb_id` or `title` at the base\n",
    "    - `release_date` to release year\n",
    "    - `revenue`\n",
    "    - `runtime`\n",
    "    - `vote_average`\n",
    "    - `vote_count`"
   ]
  },
  {
   "cell_type": "code",
   "execution_count": 11,
   "metadata": {},
   "outputs": [],
   "source": [
    "data.to_csv('./preprocessed_movies.csv')"
   ]
  },
  {
   "cell_type": "code",
   "execution_count": 12,
   "metadata": {},
   "outputs": [
    {
     "name": "stdout",
     "output_type": "stream",
     "text": [
      "1045 4261\n"
     ]
    }
   ],
   "source": [
    "newer = 0\n",
    "older = 0\n",
    "for i in range (data.budget.size):\n",
    "    if int(data.budget[i])<int(data.revenue[i]) and int(data.vote_average[i]) > 6:\n",
    "        newer += 1\n",
    "    else:\n",
    "        older +=1\n",
    "\n",
    "print(newer, older)"
   ]
  },
  {
   "cell_type": "markdown",
   "metadata": {},
   "source": [
    "MOVIE\n",
    "\n",
    "BEFORE 2005 or AFTER 2005       :        2443 vs 2863\n",
    "\n",
    "BUDGET > 14000000, < 14000000       : 2944 vs 2362\n",
    "\n",
    "Profitable vs Non-profitable        : 3732 vs 1574\n",
    "\n",
    "VOTER RATING > 6            : 1045 vs 4261\n",
    " "
   ]
  },
  {
   "cell_type": "markdown",
   "metadata": {},
   "source": [
    "### SEE WHAT WE'RE TRYING TO DO"
   ]
  },
  {
   "cell_type": "code",
   "execution_count": 15,
   "metadata": {},
   "outputs": [
    {
     "data": {
      "image/png": "[encoded data removed]",
      "text/plain": [
       "<Figure size 720x720 with 1 Axes>"
      ]
     },
     "metadata": {},
     "output_type": "display_data"
    }
   ],
   "source": [
    "testData = data\n",
    "\n",
    "import networkx as nx\n",
    "import matplotlib.pyplot as plt\n",
    "\n",
    "plt.figure(figsize = (10, 10))\n",
    "G = nx.Graph()\n",
    "\n",
    "#Basic Graph\n",
    "G.add_nodes_from(['Movie', 'Before 2005', 'After 2005', 'Budget > 14000000', 'Budget < 14000000', 'Profitable', 'Non-Profitable', 'Voter Rating > 7'])\n",
    "G.add_edges_from([\n",
    "    ('Movie', 'Before 2005'),\n",
    "    ('Movie', 'After 2005'),\n",
    "    ('After 2005', 'Budget > 14000000'),\n",
    "    ('After 2005', 'Budget < 14000000'),\n",
    "    ('Budget > 14000000', 'Profitable'),\n",
    "    ('Budget > 14000000', 'Non-Profitable'),\n",
    "    ('Profitable', 'Voter Rating > 7'),\n",
    "    ], weight = 2)\n",
    "\n",
    "for i in range (testData.title.size):\n",
    "    if (int(testData.vote_average[i]) > 7) and (int(testData.revenue[i]) > int(testData.budget[i])) and (int(testData.budget[i]) > 14000000) and (int(testData.release_date[i]) > 2005):\n",
    "        G.add_edge('Voter Rating > 7', testData.title[i], weight=1)\n",
    "\n",
    "counter = 0\n",
    "for i in range (testData.title.size):\n",
    "    if counter < 2:\n",
    "        if (int(testData.revenue[i]) < int(testData.budget[i])) and (int(testData.budget[i]) > 14000000) and (int(testData.release_date[i]) > 2005):\n",
    "            G.add_edge('Non-Profitable', testData.title[i], weight=1)\n",
    "            counter +=1\n",
    "\n",
    "counter = 0\n",
    "for i in range (testData.title.size):\n",
    "    if counter < 2:\n",
    "        if (int(testData.budget[i]) < 14000000) and (int(testData.release_date[i]) > 2005):\n",
    "            G.add_edge('Budget < 14000000', testData.title[i], weight=1)\n",
    "            counter +=1\n",
    "\n",
    "counter = 0\n",
    "for i in range (testData.title.size):\n",
    "    if counter < 2:\n",
    "        if (int(testData.release_date[i]) < 2005):\n",
    "            G.add_edge('Before 2005', testData.title[i], weight=1)\n",
    "            counter +=1\n",
    "\n",
    "nx.draw(G, with_labels=True, node_color='white', font_weight='bold')"
   ]
  },
  {
   "cell_type": "code",
   "execution_count": 16,
   "metadata": {},
   "outputs": [],
   "source": [
    "testData = data"
   ]
  },
  {
   "cell_type": "code",
   "execution_count": 17,
   "metadata": {},
   "outputs": [
    {
     "name": "stdout",
     "output_type": "stream",
     "text": [
      "5\n"
     ]
    }
   ],
   "source": [
    "count = 0\n",
    "for i in range (testData.title.size):\n",
    "    if (int(testData.vote_average[i]) > 7) and (int(testData.revenue[i]) > int(testData.budget[i])) and (int(testData.budget[i]) > 14000000) and (int(testData.release_date[i]) > 2005):\n",
    "        count += 1\n",
    "\n",
    "print(count)"
   ]
  },
  {
   "cell_type": "code",
   "execution_count": null,
   "metadata": {},
   "outputs": [],
   "source": []
  }
 ],
 "metadata": {
  "kernelspec": {
   "display_name": "Python 3.10.6 64-bit",
   "language": "python",
   "name": "python3"
  },
  "language_info": {
   "codemirror_mode": {
    "name": "ipython",
    "version": 3
   },
   "file_extension": ".py",
   "mimetype": "text/x-python",
   "name": "python",
   "nbconvert_exporter": "python",
   "pygments_lexer": "ipython3",
   "version": "3.10.6"
  },
  "orig_nbformat": 4,
  "vscode": {
   "interpreter": {
    "hash": "916dbcbb3f70747c44a77c7bcd40155683ae19c65e1c03b4aa3499c5328201f1"
   }
  }
 },
 "nbformat": 4,
 "nbformat_minor": 2
}
